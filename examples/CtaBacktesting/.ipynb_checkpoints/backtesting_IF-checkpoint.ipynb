{
 "cells": [
  {
   "cell_type": "code",
   "execution_count": 1,
   "metadata": {},
   "outputs": [
    {
     "name": "stderr",
     "output_type": "stream",
     "text": [
      "D:\\PythonBuildEnv\\Anaconda2\\lib\\site-packages\\matplotlib\\__init__.py:1350: UserWarning:  This call to matplotlib.use() has no effect\n",
      "because the backend has already been chosen;\n",
      "matplotlib.use() must be called *before* pylab, matplotlib.pyplot,\n",
      "or matplotlib.backends is imported for the first time.\n",
      "\n",
      "  warnings.warn(_use_error_msg)\n"
     ]
    },
    {
     "ename": "IndentationError",
     "evalue": "unexpected indent (vnrpc.py, line 223)",
     "output_type": "error",
     "traceback": [
      "\u001b[1;36m  File \u001b[1;32m\"D:\\PythonBuildEnv\\Anaconda2\\lib\\site-packages\\vnpy-1.9.2-py2.7.egg\\vnpy\\rpc\\vnrpc.py\"\u001b[1;36m, line \u001b[1;32m223\u001b[0m\n\u001b[1;33m    print(str(datetime.now()) + \"\\t\" + \"__init__ finished.\")\u001b[0m\n\u001b[1;37m    ^\u001b[0m\n\u001b[1;31mIndentationError\u001b[0m\u001b[1;31m:\u001b[0m unexpected indent\n"
     ]
    }
   ],
   "source": [
    "import matplotlib\n",
    "matplotlib.use(\"Qt5Agg\")\n",
    "\n",
    "%matplotlib inline\n",
    "\n",
    "from vnpy.trader.app.ctaStrategy.ctaBacktesting import BacktestingEngine, OptimizationSetting, MINUTE_DB_NAME\n",
    "from vnpy.trader.app.ctaStrategy.strategy.strategyAtrRsi import AtrRsiStrategy\n",
    "#from vnpy.trader.app.ctaStrategy.strategy.strategyMultiTimeframe import MultiTimeframeStrategy\n",
    "from vnpy.trader.app.ctaStrategy.strategy.strategyMultiSignal import MultiSignalStrategy"
   ]
  },
  {
   "cell_type": "code",
   "execution_count": null,
   "metadata": {},
   "outputs": [],
   "source": [
    "# 创建回测引擎对象\n",
    "engine = BacktestingEngine()"
   ]
  },
  {
   "cell_type": "code",
   "execution_count": null,
   "metadata": {},
   "outputs": [],
   "source": [
    "# 使用历史数据缓存服务器，请先运行startHds.py\n",
    "print u'使用历史数据缓存服务器，请先运行startHds.py'\n",
    "engine.initHdsClient()                        # 受限于机器内存，超出上限会报错"
   ]
  },
  {
   "cell_type": "code",
   "execution_count": null,
   "metadata": {},
   "outputs": [],
   "source": [
    "# 设置回测使用的数据                       \n",
    "engine.setBacktestingMode(engine.BAR_MODE)    # 设置引擎的回测模式为K线\n",
    "engine.setDatabase(MINUTE_DB_NAME, 'IF0000')  # 设置使用的历史数据库\n",
    "engine.setStartDate('20170101')               # 设置回测用的数据起始日期"
   ]
  },
  {
   "cell_type": "code",
   "execution_count": null,
   "metadata": {},
   "outputs": [],
   "source": [
    "# 配置回测引擎参数\n",
    "engine.setSlippage(0.2)     # 设置滑点为股指1跳\n",
    "engine.setRate(0.3/10000)   # 设置手续费万0.3\n",
    "engine.setSize(300)         # 设置股指合约大小 \n",
    "engine.setPriceTick(0.2)    # 设置股指最小价格变动   \n",
    "engine.setCapital(1000000)  # 设置回测本金"
   ]
  },
  {
   "cell_type": "code",
   "execution_count": null,
   "metadata": {},
   "outputs": [],
   "source": [
    "# 在引擎中创建策略对象\n",
    "d = {'atrLength': 11}                     # 策略参数配置\n",
    "engine.initStrategy(AtrRsiStrategy, d)    # 创建策略对象\n",
    "#ngine.initStrategy(MultiTimeframeStrategy, d)    \n",
    "#engine.initStrategy(MultiSignalStrategy, {})    "
   ]
  },
  {
   "cell_type": "code",
   "execution_count": null,
   "metadata": {},
   "outputs": [],
   "source": [
    "# 运行回测\n",
    "engine.runBacktesting()          # 运行回测"
   ]
  },
  {
   "cell_type": "code",
   "execution_count": null,
   "metadata": {
    "scrolled": false
   },
   "outputs": [],
   "source": [
    "# 显示逐日回测结果\n",
    "engine.showDailyResult()"
   ]
  },
  {
   "cell_type": "code",
   "execution_count": null,
   "metadata": {},
   "outputs": [],
   "source": [
    "# 显示逐笔回测结果\n",
    "engine.showBacktestingResult()"
   ]
  },
  {
   "cell_type": "code",
   "execution_count": null,
   "metadata": {},
   "outputs": [],
   "source": [
    "# 显示前10条成交记录\n",
    "for i in range(10):\n",
    "    d = engine.tradeDict[str(i+1)].__dict__\n",
    "    print 'TradeID: %s, Time: %s, Direction: %s, Price: %s, Volume: %s' %(d['tradeID'], d['dt'], d['direction'], d['price'], d['volume'])"
   ]
  },
  {
   "cell_type": "code",
   "execution_count": null,
   "metadata": {},
   "outputs": [],
   "source": [
    "# 优化配置\n",
    "setting = OptimizationSetting()                 # 新建一个优化任务设置对象\n",
    "setting.setOptimizeTarget('totalNetPnl')        # 设置优化排序的目标是策略净盈利\n",
    "setting.addParameter('atrLength', 12, 16, 2)    # 增加第一个优化参数atrLength，起始12，结束20，步进2\n",
    "#setting.addParameter('atrMa', 20, 30, 5)        # 增加第二个优化参数atrMa，起始20，结束30，步进5\n",
    "#setting.addParameter('rsiLength', 5)            # 增加一个固定数值的参数\n",
    "\n",
    "# 执行多进程优化\n",
    "import time\n",
    "start = time.time()\n",
    "#resultList = engine.runParallelOptimization(AtrRsiStrategy, setting)\n",
    "resultList = engine.runOptimization(AtrRsiStrategy, setting)\n",
    "print u'耗时：%s' %(time.time()-start)"
   ]
  },
  {
   "cell_type": "code",
   "execution_count": null,
   "metadata": {},
   "outputs": [],
   "source": [
    "# 显示优化的所有统计数据\n",
    "for result in resultList:\n",
    "    print '-' * 30\n",
    "    print u'参数：%s，目标：%s' %(result[0], result[1])\n",
    "    print u'统计数据：'\n",
    "    for k, v in result[2].items():\n",
    "        print u'%s：%s' %(k, v)"
   ]
  },
  {
   "cell_type": "code",
   "execution_count": null,
   "metadata": {},
   "outputs": [],
   "source": []
  }
 ],
 "metadata": {
  "kernelspec": {
   "display_name": "Python 2",
   "language": "python",
   "name": "python2"
  },
  "language_info": {
   "codemirror_mode": {
    "name": "ipython",
    "version": 2
   },
   "file_extension": ".py",
   "mimetype": "text/x-python",
   "name": "python",
   "nbconvert_exporter": "python",
   "pygments_lexer": "ipython2",
   "version": "2.7.15"
  }
 },
 "nbformat": 4,
 "nbformat_minor": 1
}
